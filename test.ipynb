{
 "cells": [
  {
   "cell_type": "code",
   "execution_count": 7,
   "metadata": {},
   "outputs": [
    {
     "name": "stdout",
     "output_type": "stream",
     "text": [
      "<TensorSliceDataset element_spec=({'Attr1': TensorSpec(shape=(), dtype=tf.float64, name=None), 'Attr2': TensorSpec(shape=(), dtype=tf.string, name=None), 'Attr3': TensorSpec(shape=(), dtype=tf.float64, name=None)}, TensorSpec(shape=(), dtype=tf.int32, name=None))>\n"
     ]
    }
   ],
   "source": [
    "import tensorflow as tf\n",
    "import numpy as np\n",
    "\n",
    "df = {\n",
    "    \"Attr1\": np.array([1, 2, 3, np.nan]),\n",
    "    \"Attr2\": np.array([\"asba\", 'asdasd', \"1\", 'asdasdas']),\n",
    "    \"Attr3\": np.array([0.5, 7.33, 2.21, 2])\n",
    "}\n",
    "\n",
    "ds = tf.data.Dataset.from_tensor_slices((df, [1,2,3,4]))\n",
    "print(ds)"
   ]
  }
 ],
 "metadata": {
  "kernelspec": {
   "display_name": "Python 3.9.1 64-bit",
   "language": "python",
   "name": "python3"
  },
  "language_info": {
   "codemirror_mode": {
    "name": "ipython",
    "version": 3
   },
   "file_extension": ".py",
   "mimetype": "text/x-python",
   "name": "python",
   "nbconvert_exporter": "python",
   "pygments_lexer": "ipython3",
   "version": "3.9.1"
  },
  "orig_nbformat": 4,
  "vscode": {
   "interpreter": {
    "hash": "2741a4e678cbe62d26295a3ec23a6675bcf135af64b5d4ebdca2c4a966eedd54"
   }
  }
 },
 "nbformat": 4,
 "nbformat_minor": 2
}
